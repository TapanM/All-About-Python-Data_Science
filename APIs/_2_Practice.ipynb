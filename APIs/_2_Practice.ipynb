{
 "cells": [
  {
   "cell_type": "code",
   "execution_count": 1,
   "metadata": {},
   "outputs": [],
   "source": [
    "from randomuser import RandomUser\n",
    "import pandas as pd"
   ]
  },
  {
   "cell_type": "code",
   "execution_count": 2,
   "metadata": {},
   "outputs": [],
   "source": [
    "obj = RandomUser()"
   ]
  },
  {
   "cell_type": "code",
   "execution_count": 3,
   "metadata": {},
   "outputs": [],
   "source": [
    "# getting 10 random user\n",
    " \n",
    "some_user_list = obj.generate_users(10)"
   ]
  },
  {
   "cell_type": "code",
   "execution_count": 4,
   "metadata": {},
   "outputs": [
    {
     "data": {
      "text/plain": [
       "[<randomuser.RandomUser at 0x7f66b5351930>,\n",
       " <randomuser.RandomUser at 0x7f66b5352f50>,\n",
       " <randomuser.RandomUser at 0x7f66b423c940>,\n",
       " <randomuser.RandomUser at 0x7f66b423db40>,\n",
       " <randomuser.RandomUser at 0x7f66b423ea40>,\n",
       " <randomuser.RandomUser at 0x7f66b423ca60>,\n",
       " <randomuser.RandomUser at 0x7f66b423d000>,\n",
       " <randomuser.RandomUser at 0x7f66b423ec20>,\n",
       " <randomuser.RandomUser at 0x7f66b423e800>,\n",
       " <randomuser.RandomUser at 0x7f66b423ca90>]"
      ]
     },
     "execution_count": 4,
     "metadata": {},
     "output_type": "execute_result"
    }
   ],
   "source": [
    "some_user_list"
   ]
  },
  {
   "cell_type": "code",
   "execution_count": 5,
   "metadata": {},
   "outputs": [],
   "source": [
    "name = obj.get_full_name()"
   ]
  },
  {
   "cell_type": "code",
   "execution_count": 6,
   "metadata": {},
   "outputs": [
    {
     "name": "stdout",
     "output_type": "stream",
     "text": [
      "Maxence Perez   maxence.perez@example.com\n",
      "Petter Tjelle   petter.tjelle@example.com\n",
      "Maria Doyle   maria.doyle@example.com\n",
      "Tora Almaas   tora.almaas@example.com\n",
      "Valdira da Rosa   valdira.darosa@example.com\n",
      "Barış Evliyaoğlu   baris.evliyaoglu@example.com\n",
      "Loïc Meunier   loic.meunier@example.com\n",
      "Carl Gonzalez   carl.gonzalez@example.com\n",
      "Silke Poulsen   silke.poulsen@example.com\n",
      "Elisa Santos   elisa.santos@example.com\n"
     ]
    }
   ],
   "source": [
    "for user in some_user_list:\n",
    "    print(user.get_full_name(), \" \", user.get_email())"
   ]
  },
  {
   "cell_type": "code",
   "execution_count": 9,
   "metadata": {},
   "outputs": [
    {
     "data": {
      "text/html": [
       "<div>\n",
       "<style scoped>\n",
       "    .dataframe tbody tr th:only-of-type {\n",
       "        vertical-align: middle;\n",
       "    }\n",
       "\n",
       "    .dataframe tbody tr th {\n",
       "        vertical-align: top;\n",
       "    }\n",
       "\n",
       "    .dataframe thead th {\n",
       "        text-align: right;\n",
       "    }\n",
       "</style>\n",
       "<table border=\"1\" class=\"dataframe\">\n",
       "  <thead>\n",
       "    <tr style=\"text-align: right;\">\n",
       "      <th></th>\n",
       "      <th>Name</th>\n",
       "      <th>Gender</th>\n",
       "      <th>City</th>\n",
       "      <th>Picture</th>\n",
       "    </tr>\n",
       "  </thead>\n",
       "  <tbody>\n",
       "    <tr>\n",
       "      <th>0</th>\n",
       "      <td>Olivia Koivisto</td>\n",
       "      <td>female</td>\n",
       "      <td>Vårdö</td>\n",
       "      <td>https://randomuser.me/api/portraits/women/80.jpg</td>\n",
       "    </tr>\n",
       "    <tr>\n",
       "      <th>1</th>\n",
       "      <td>Sílvia da Cunha</td>\n",
       "      <td>female</td>\n",
       "      <td>Araguaína</td>\n",
       "      <td>https://randomuser.me/api/portraits/women/76.jpg</td>\n",
       "    </tr>\n",
       "    <tr>\n",
       "      <th>2</th>\n",
       "      <td>Maelya Caron</td>\n",
       "      <td>female</td>\n",
       "      <td>Nanterre</td>\n",
       "      <td>https://randomuser.me/api/portraits/women/0.jpg</td>\n",
       "    </tr>\n",
       "    <tr>\n",
       "      <th>3</th>\n",
       "      <td>Gonca Adal</td>\n",
       "      <td>female</td>\n",
       "      <td>Kırşehir</td>\n",
       "      <td>https://randomuser.me/api/portraits/women/7.jpg</td>\n",
       "    </tr>\n",
       "    <tr>\n",
       "      <th>4</th>\n",
       "      <td>Theo Turner</td>\n",
       "      <td>male</td>\n",
       "      <td>Gisborne</td>\n",
       "      <td>https://randomuser.me/api/portraits/men/53.jpg</td>\n",
       "    </tr>\n",
       "    <tr>\n",
       "      <th>5</th>\n",
       "      <td>Timothy Frazier</td>\n",
       "      <td>male</td>\n",
       "      <td>Coventry</td>\n",
       "      <td>https://randomuser.me/api/portraits/men/46.jpg</td>\n",
       "    </tr>\n",
       "    <tr>\n",
       "      <th>6</th>\n",
       "      <td>Andreas Christiansen</td>\n",
       "      <td>male</td>\n",
       "      <td>Brondby</td>\n",
       "      <td>https://randomuser.me/api/portraits/men/43.jpg</td>\n",
       "    </tr>\n",
       "    <tr>\n",
       "      <th>7</th>\n",
       "      <td>Jonathan Santos</td>\n",
       "      <td>male</td>\n",
       "      <td>Arrecife</td>\n",
       "      <td>https://randomuser.me/api/portraits/men/7.jpg</td>\n",
       "    </tr>\n",
       "    <tr>\n",
       "      <th>8</th>\n",
       "      <td>Vedat Keseroğlu</td>\n",
       "      <td>male</td>\n",
       "      <td>Mardin</td>\n",
       "      <td>https://randomuser.me/api/portraits/men/79.jpg</td>\n",
       "    </tr>\n",
       "    <tr>\n",
       "      <th>9</th>\n",
       "      <td>Adalgisa das Neves</td>\n",
       "      <td>female</td>\n",
       "      <td>Cabo de Santo Agostinho</td>\n",
       "      <td>https://randomuser.me/api/portraits/women/37.jpg</td>\n",
       "    </tr>\n",
       "  </tbody>\n",
       "</table>\n",
       "</div>"
      ],
      "text/plain": [
       "                   Name  Gender                     City  \\\n",
       "0       Olivia Koivisto  female                    Vårdö   \n",
       "1       Sílvia da Cunha  female                Araguaína   \n",
       "2          Maelya Caron  female                 Nanterre   \n",
       "3            Gonca Adal  female                 Kırşehir   \n",
       "4           Theo Turner    male                 Gisborne   \n",
       "5       Timothy Frazier    male                 Coventry   \n",
       "6  Andreas Christiansen    male                  Brondby   \n",
       "7       Jonathan Santos    male                 Arrecife   \n",
       "8       Vedat Keseroğlu    male                   Mardin   \n",
       "9    Adalgisa das Neves  female  Cabo de Santo Agostinho   \n",
       "\n",
       "                                            Picture  \n",
       "0  https://randomuser.me/api/portraits/women/80.jpg  \n",
       "1  https://randomuser.me/api/portraits/women/76.jpg  \n",
       "2   https://randomuser.me/api/portraits/women/0.jpg  \n",
       "3   https://randomuser.me/api/portraits/women/7.jpg  \n",
       "4    https://randomuser.me/api/portraits/men/53.jpg  \n",
       "5    https://randomuser.me/api/portraits/men/46.jpg  \n",
       "6    https://randomuser.me/api/portraits/men/43.jpg  \n",
       "7     https://randomuser.me/api/portraits/men/7.jpg  \n",
       "8    https://randomuser.me/api/portraits/men/79.jpg  \n",
       "9  https://randomuser.me/api/portraits/women/37.jpg  "
      ]
     },
     "execution_count": 9,
     "metadata": {},
     "output_type": "execute_result"
    }
   ],
   "source": [
    "def get_user():\n",
    "    users = [] #list\n",
    "    for user in RandomUser.generate_users(10):\n",
    "        users.append({\n",
    "            \"Name\": user.get_full_name(),\n",
    "            \"Gender\": user.get_gender(),\n",
    "            \"City\": user.get_city(),\n",
    "            \"Picture\": user.get_picture()\n",
    "        })\n",
    "    return pd.DataFrame(users)\n",
    "\n",
    "get_user()"
   ]
  },
  {
   "cell_type": "code",
   "execution_count": null,
   "metadata": {},
   "outputs": [],
   "source": []
  }
 ],
 "metadata": {
  "kernelspec": {
   "display_name": "Python 3",
   "language": "python",
   "name": "python3"
  },
  "language_info": {
   "codemirror_mode": {
    "name": "ipython",
    "version": 3
   },
   "file_extension": ".py",
   "mimetype": "text/x-python",
   "name": "python",
   "nbconvert_exporter": "python",
   "pygments_lexer": "ipython3",
   "version": "3.10.6"
  },
  "orig_nbformat": 4
 },
 "nbformat": 4,
 "nbformat_minor": 2
}
